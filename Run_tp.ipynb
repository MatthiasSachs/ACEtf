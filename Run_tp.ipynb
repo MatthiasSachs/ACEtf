{
 "cells": [
  {
   "cell_type": "code",
   "execution_count": 24,
   "metadata": {},
   "outputs": [],
   "source": [
    "import os\n",
    "os.environ[\"CUDA_DEVICE_ORDER\"]=\"PCI_BUS_ID\" \n",
    "os.environ[\"CUDA_VISIBLE_DEVICES\"] = \"0\"\n",
    "\n",
    "# Disable all info messages (3) or info and warning messages (2)\n",
    "os.environ['TF_CPP_MIN_LOG_LEVEL'] = '2' \n"
   ]
  },
  {
   "cell_type": "code",
   "execution_count": 10,
   "metadata": {},
   "outputs": [],
   "source": [
    "from tensorflow.python.client import device_lib"
   ]
  },
  {
   "cell_type": "code",
   "execution_count": 11,
   "metadata": {},
   "outputs": [],
   "source": [
    "import numpy as np\n",
    "import pandas as pd\n",
    "import pylab as plt\n",
    "\n",
    "from pyace import *\n",
    "from tensorpotential.potentials.ace import ACE\n",
    "from tensorpotential.tensorpot import TensorPotential\n",
    "from tensorpotential.fit import FitTensorPotential\n",
    "from tensorpotential.constants import *\n",
    "from tensorpotential.utils.utilities import generate_tp_atoms\n",
    "\n",
    "from ase import Atoms\n",
    "from ase.calculators.singlepoint import SinglePointCalculator"
   ]
  },
  {
   "cell_type": "code",
   "execution_count": 95,
   "metadata": {},
   "outputs": [],
   "source": [
    "cutoff = 6\n",
    "\n",
    "potential_config = {\n",
    "        # Step 0. define deltaSplineBins\n",
    "        'deltaSplineBins': 0.001,\n",
    "\n",
    "        # Step 1. specify all elements of the basis\n",
    "        'elements': ['Cu'],\n",
    "\n",
    "        # Step 2. specify embeddings for all elements, using 'ALL' or elements name keywords\n",
    "        'embeddings': {'ALL': {\n",
    "                'ndensity': 2,\n",
    "                'fs_parameters': [1, 1, 1, 0.5],\n",
    "                'npot': 'FinnisSinclairShiftedScaled',\n",
    "\n",
    "                #'rho_core_cut': 2000000.,\n",
    "                #'drho_core_cut': 250,\n",
    "        },\n",
    "        },\n",
    "        # Step 3. specify bonds for all elements, using 'ALL', UNARY, BINARY or elements pairs\n",
    "        'bonds': {'ALL': {\n",
    "                'radbase': 'SBessel',\n",
    "                'radparameters': [2.0],\n",
    "                'rcut': cutoff,\n",
    "                'dcut': 0.01,\n",
    "                #'NameOfCutoffFunction': 'cos',\n",
    "                #'core-repulsion': [0.0, 1.0],\n",
    "        },\n",
    "        },\n",
    "\n",
    "        # Step 4. Specify BBasisFunctions list for each block using ALL, UNARY, BINARY, ..., QUINARY keywords\n",
    "        # setup per-rank nradmax_by_orders and lmax_by_orders\n",
    "        'functions': {\n",
    "                'ALL': {\n",
    "                        'nradmax_by_orders': [16, 6],\n",
    "                        'lmax_by_orders': [0, 6]\n",
    "                },\n",
    "        }\n",
    "}"
   ]
  },
  {
   "cell_type": "code",
   "execution_count": 96,
   "metadata": {},
   "outputs": [],
   "source": [
    "def do_tp_atoms(row):\n",
    "    at = row['ase_atoms']\n",
    "    en = row['energy_corrected']\n",
    "    f = row['forces']\n",
    "    calc = SinglePointCalculator(at, energy=en, forces=f)\n",
    "    at.set_calculator(calc)\n",
    "    \n",
    "    return generate_tp_atoms(at, cutoff=cutoff)"
   ]
  },
  {
   "cell_type": "code",
   "execution_count": 126,
   "metadata": {},
   "outputs": [],
   "source": [
    "np.random.seed(42)\n",
    "\n",
    "bbasisconf = create_multispecies_basis_config(potential_config,\n",
    "                                             func_coefs_initializer=\"zero\")"
   ]
  },
  {
   "cell_type": "code",
   "execution_count": 127,
   "metadata": {},
   "outputs": [],
   "source": [
    "ace = ACE(bbasisconf)\n",
    "\n",
    "tp = TensorPotential(ace, loss_specs={\n",
    "        LOSS_TYPE: 'per-atom',\n",
    "        LOSS_FORCE_FACTOR: 1,\n",
    "        LOSS_ENERGY_FACTOR: 10,\n",
    "        L1_REG: 0e-8,\n",
    "        L2_REG: 0e-8\n",
    "    })"
   ]
  },
  {
   "cell_type": "code",
   "execution_count": 145,
   "metadata": {},
   "outputs": [
    {
     "ename": "AttributeError",
     "evalue": "'NoneType' object has no attribute 'bond_partition'",
     "output_type": "error",
     "traceback": [
      "\u001b[0;31m---------------------------------------------------------------------------\u001b[0m",
      "\u001b[0;31mAttributeError\u001b[0m                            Traceback (most recent call last)",
      "Cell \u001b[0;32mIn [145], line 1\u001b[0m\n\u001b[0;32m----> 1\u001b[0m ace\u001b[39m.\u001b[39;49meval_atomic_energy(at\u001b[39m.\u001b[39;49mpositions)\n",
      "File \u001b[0;32m~/miniconda/envs/ace/lib/python3.8/site-packages/tensorpotential/potentials/ace.py:351\u001b[0m, in \u001b[0;36mACE.eval_atomic_energy\u001b[0;34m(self, r_ij)\u001b[0m\n\u001b[1;32m    348\u001b[0m ynlm_r \u001b[39m=\u001b[39m tf\u001b[39m.\u001b[39mexpand_dims(ylm_r, \u001b[39m1\u001b[39m) \u001b[39m*\u001b[39m \u001b[39mself\u001b[39m\u001b[39m.\u001b[39mfactor4pi  \u001b[39m# [None, 1, (lmax+1) * (lmax+1)]\u001b[39;00m\n\u001b[1;32m    349\u001b[0m ynlm_i \u001b[39m=\u001b[39m tf\u001b[39m.\u001b[39mexpand_dims(ylm_i, \u001b[39m1\u001b[39m) \u001b[39m*\u001b[39m \u001b[39mself\u001b[39m\u001b[39m.\u001b[39mfactor4pi  \u001b[39m# [None, 1, (lmax+1) * (lmax+1)]\u001b[39;00m\n\u001b[0;32m--> 351\u001b[0m part_d_ij \u001b[39m=\u001b[39m tf\u001b[39m.\u001b[39mdynamic_partition(d_ij, \u001b[39mself\u001b[39;49m\u001b[39m.\u001b[39;49mindex\u001b[39m.\u001b[39;49mbond_partition, \u001b[39mself\u001b[39m\u001b[39m.\u001b[39mindex\u001b[39m.\u001b[39mncombs)\n\u001b[1;32m    352\u001b[0m part_ylm_r \u001b[39m=\u001b[39m tf\u001b[39m.\u001b[39mdynamic_partition(ynlm_r, \u001b[39mself\u001b[39m\u001b[39m.\u001b[39mindex\u001b[39m.\u001b[39mbond_partition, \u001b[39mself\u001b[39m\u001b[39m.\u001b[39mindex\u001b[39m.\u001b[39mncombs)\n\u001b[1;32m    353\u001b[0m part_ylm_i \u001b[39m=\u001b[39m tf\u001b[39m.\u001b[39mdynamic_partition(ynlm_i, \u001b[39mself\u001b[39m\u001b[39m.\u001b[39mindex\u001b[39m.\u001b[39mbond_partition, \u001b[39mself\u001b[39m\u001b[39m.\u001b[39mindex\u001b[39m.\u001b[39mncombs)\n",
      "\u001b[0;31mAttributeError\u001b[0m: 'NoneType' object has no attribute 'bond_partition'"
     ]
    }
   ],
   "source": [
    "ace.eval_atomic_energy(at.positions)"
   ]
  },
  {
   "cell_type": "code",
   "execution_count": 100,
   "metadata": {},
   "outputs": [],
   "source": [
    "# https://github.com/ICAMS/python-ace/blob/master/examples/Cu-I/Cu_df1_A1_A2_A3_EV_elast_phon.pckl.gzip\n",
    "\n",
    "df = pd.read_pickle('./Cu_df1_A1_A2_A3_EV_elast_phon.pckl.gzip', compression=\"gzip\")"
   ]
  },
  {
   "cell_type": "code",
   "execution_count": 103,
   "metadata": {},
   "outputs": [
    {
     "data": {
      "text/plain": [
       "0      {'_ind_i': [0, 0, 0, 0, 0, 0, 0, 0, 0, 0, 0, 0...\n",
       "1      {'_ind_i': [0, 0, 0, 0, 0, 0, 0, 0, 0, 0, 0, 0...\n",
       "2      {'_ind_i': [0, 0, 0, 0, 0, 0, 0, 0, 0, 0, 0, 0...\n",
       "3      {'_ind_i': [0, 0, 0, 0, 0, 0, 0, 0, 0, 0, 0, 0...\n",
       "4      {'_ind_i': [0, 0, 0, 0, 0, 0, 0, 0, 0, 0, 0, 0...\n",
       "                             ...                        \n",
       "100    {'_ind_i': [0, 0, 0, 0, 0, 0, 0, 0, 0, 0, 0, 0...\n",
       "101    {'_ind_i': [0, 0, 0, 0, 0, 0, 0, 0, 0, 0, 0, 0...\n",
       "102    {'_ind_i': [0, 0, 0, 0, 0, 0, 0, 0, 0, 0, 0, 0...\n",
       "103    {'_ind_i': [0, 0, 0, 0, 0, 0, 0, 0, 0, 0, 0, 0...\n",
       "104    {'_ind_i': [0, 0, 0, 0, 0, 0, 0, 0, 0, 0, 0, 0...\n",
       "Name: tp_atoms, Length: 105, dtype: object"
      ]
     },
     "execution_count": 103,
     "metadata": {},
     "output_type": "execute_result"
    }
   ],
   "source": [
    "df['tp_atoms'] = df.apply(do_tp_atoms, axis=1)\n",
    "df['tp_atoms'] "
   ]
  },
  {
   "cell_type": "code",
   "execution_count": 104,
   "metadata": {},
   "outputs": [],
   "source": [
    "tpf = FitTensorPotential(tp, eager=False)"
   ]
  },
  {
   "cell_type": "code",
   "execution_count": 105,
   "metadata": {},
   "outputs": [
    {
     "name": "stderr",
     "output_type": "stream",
     "text": [
      "2022-12-13 08:45:28,087 - tensorpotential.fit - INFO - Minimizer options: {'gtol': 1e-08, 'disp': True, 'maxiter': 10}\n",
      "/home/mbahng/miniconda/envs/ace/lib/python3.8/site-packages/tensorflow/python/framework/indexed_slices.py:444: UserWarning: Converting sparse IndexedSlices(IndexedSlices(indices=Tensor(\"concat_19:0\", shape=(None,), dtype=int32), values=Tensor(\"concat_18:0\", shape=(None, 3), dtype=float64), dense_shape=Tensor(\"gradient_tape/Cast_7:0\", shape=(2,), dtype=int32))) to a dense Tensor of unknown shape. This may consume a large amount of memory.\n",
      "  warnings.warn(\n",
      "/home/mbahng/miniconda/envs/ace/lib/python3.8/site-packages/tensorflow/python/framework/indexed_slices.py:444: UserWarning: Converting sparse IndexedSlices(IndexedSlices(indices=Tensor(\"gradient_tape/gradient_tape/Reshape_134:0\", shape=(None,), dtype=int32), values=Tensor(\"gradient_tape/gradient_tape/Reshape_133:0\", shape=(None, 16), dtype=float64), dense_shape=Tensor(\"gradient_tape/gradient_tape/Cast_1:0\", shape=(2,), dtype=int32))) to a dense Tensor of unknown shape. This may consume a large amount of memory.\n",
      "  warnings.warn(\n",
      "/home/mbahng/miniconda/envs/ace/lib/python3.8/site-packages/tensorflow/python/framework/indexed_slices.py:444: UserWarning: Converting sparse IndexedSlices(IndexedSlices(indices=Tensor(\"gradient_tape/gradient_tape/Reshape_147:0\", shape=(None,), dtype=int32), values=Tensor(\"gradient_tape/gradient_tape/Reshape_146:0\", shape=(None, 6, 49), dtype=float64), dense_shape=Tensor(\"gradient_tape/gradient_tape/Cast_3:0\", shape=(3,), dtype=int32))) to a dense Tensor of unknown shape. This may consume a large amount of memory.\n",
      "  warnings.warn(\n",
      "/home/mbahng/miniconda/envs/ace/lib/python3.8/site-packages/tensorflow/python/framework/indexed_slices.py:444: UserWarning: Converting sparse IndexedSlices(IndexedSlices(indices=Tensor(\"gradient_tape/gradient_tape/Reshape_149:0\", shape=(None,), dtype=int32), values=Tensor(\"gradient_tape/gradient_tape/Reshape_148:0\", shape=(None, 6, 49), dtype=float64), dense_shape=Tensor(\"gradient_tape/gradient_tape/Cast_4:0\", shape=(3,), dtype=int32))) to a dense Tensor of unknown shape. This may consume a large amount of memory.\n",
      "  warnings.warn(\n",
      "/home/mbahng/miniconda/envs/ace/lib/python3.8/site-packages/tensorflow/python/framework/indexed_slices.py:444: UserWarning: Converting sparse IndexedSlices(IndexedSlices(indices=Tensor(\"gradient_tape/gradient_tape/Reshape_169:0\", shape=(588,), dtype=int32), values=Tensor(\"gradient_tape/gradient_tape/Reshape_168:0\", shape=(588, None), dtype=float64), dense_shape=Tensor(\"gradient_tape/gradient_tape/Cast_5:0\", shape=(2,), dtype=int32))) to a dense Tensor of unknown shape. This may consume a large amount of memory.\n",
      "  warnings.warn(\n",
      "2022-12-13 08:45:53,826 - tensorpotential.fit - INFO - Initial state:#0    (1 evals):        Loss: 14038.107770 | RMSE Energy(low): 3656.45 (3656.45) meV/at | Forces(low): 7.05 (7.05) meV/A | Time/eval: 69937.42 mcs/at\n",
      "2022-12-13 08:45:53,828 - tensorpotential.fit - INFO - \n",
      "--------------------------------------------INIT STATS--------------------------------------------\n",
      "Iteration:  #0   Loss:    Total:  1.4038e+04 (100%) \n",
      "                         Energy:  1.4038e+04 (100%) \n",
      "                          Force:  1.8291e-02 (  0%) \n",
      "                             L1:  0.0000e+00 (  0%) \n",
      "                             L2:  0.0000e+00 (  0%) \n",
      " Number of params.:    998                               Avg. time:   69937.42 mcs/at\n",
      "-------------------------------------------------------------------------------------------------\n",
      "           Energy/at, meV/at   Energy_low/at, meV/at      Force, meV/A        Force_low, meV/A   \n",
      "   RMSE:         3656.45              3656.45                 7.05                    7.05\n",
      "    MAE:         3656.24              3656.24                 2.96                    2.01\n",
      " MAX_AE:         3699.84              3699.84                50.24                   50.24\n",
      "-------------------------------------------------------------------------------------------------\n",
      "2022-12-13 08:45:54,511 - tensorpotential.fit - INFO - Iteration:  #1    (4 evals):        Loss: 121.654856 | RMSE Energy(low): 335.30 (335.30) meV/at | Forces(low): 98.98 (98.98) meV/A | Time/eval: 581.20 mcs/at\n",
      "2022-12-13 08:45:55,258 - tensorpotential.fit - INFO - Iteration:  #2    (7 evals):        Loss: 54.704339 | RMSE Energy(low): 223.47 (223.47) meV/at | Forces(low): 78.54 (78.54) meV/A | Time/eval: 600.32 mcs/at\n",
      "2022-12-13 08:45:55,544 - tensorpotential.fit - INFO - Iteration:  #3    (8 evals):        Loss: 22.188490 | RMSE Energy(low): 141.25 (141.25) meV/at | Forces(low): 58.00 (58.00) meV/A | Time/eval: 686.11 mcs/at\n",
      "2022-12-13 08:45:56,051 - tensorpotential.fit - INFO - Iteration:  #4    (10 evals):       Loss: 19.564372 | RMSE Energy(low): 132.77 (132.77) meV/at | Forces(low): 53.55 (53.55) meV/A | Time/eval: 608.04 mcs/at\n",
      "2022-12-13 08:45:56,345 - tensorpotential.fit - INFO - Iteration:  #5    (11 evals):       Loss: 16.634341 | RMSE Energy(low): 121.52 (121.52) meV/at | Forces(low): 55.37 (55.37) meV/A | Time/eval: 698.60 mcs/at\n",
      "2022-12-13 08:45:56,620 - tensorpotential.fit - INFO - Iteration:  #6    (12 evals):       Loss: 12.837845 | RMSE Energy(low): 105.45 (105.45) meV/at | Forces(low): 56.17 (56.17) meV/A | Time/eval: 670.90 mcs/at\n",
      "2022-12-13 08:45:56,887 - tensorpotential.fit - INFO - Iteration:  #7    (13 evals):       Loss: 9.242210 | RMSE Energy(low): 84.75 (84.75) meV/at | Forces(low): 67.97 (67.97) meV/A | Time/eval: 652.19 mcs/at\n",
      "2022-12-13 08:45:57,386 - tensorpotential.fit - INFO - Iteration:  #8    (15 evals):       Loss: 7.185228 | RMSE Energy(low): 76.53 (76.53) meV/at | Forces(low): 53.04 (53.04) meV/A | Time/eval: 600.14 mcs/at\n",
      "2022-12-13 08:45:57,905 - tensorpotential.fit - INFO - Iteration:  #9    (17 evals):       Loss: 6.121371 | RMSE Energy(low): 70.17 (70.17) meV/at | Forces(low): 50.86 (50.86) meV/A | Time/eval: 649.49 mcs/at\n",
      "2022-12-13 08:45:58,183 - tensorpotential.fit - INFO - Iteration:  #10   (18 evals):       Loss: 4.824717 | RMSE Energy(low): 61.64 (61.64) meV/at | Forces(low): 47.64 (47.64) meV/A | Time/eval: 678.33 mcs/at\n"
     ]
    },
    {
     "name": "stdout",
     "output_type": "stream",
     "text": [
      "Warning: Maximum number of iterations has been exceeded.\n",
      "         Current function value: 4.824717\n",
      "         Iterations: 10\n",
      "         Function evaluations: 18\n",
      "         Gradient evaluations: 18\n",
      "Fitting took  30.12 seconds\n"
     ]
    }
   ],
   "source": [
    "tpf.fit(df, niter=10, batch_size=105, optimizer='BFGS')"
   ]
  },
  {
   "cell_type": "code",
   "execution_count": 106,
   "metadata": {},
   "outputs": [
    {
     "name": "stdout",
     "output_type": "stream",
     "text": [
      "tf.Tensor(\n",
      "[ 1.00389926e+00  4.00817046e-03  2.05781768e-03  4.25863756e-03\n",
      "  4.23271645e-03 -1.09855351e-03 -1.65402930e-03  1.78998834e-03\n",
      " -1.17946734e-04 -2.85728656e-03], shape=(10,), dtype=float64)\n"
     ]
    }
   ],
   "source": [
    "print(ace.get_coefs()[:10])"
   ]
  },
  {
   "cell_type": "code",
   "execution_count": null,
   "metadata": {},
   "outputs": [],
   "source": [
    "tpf.fit(df, niter=10, batch_size=105, optimizer='BFGS')"
   ]
  },
  {
   "cell_type": "code",
   "execution_count": 108,
   "metadata": {},
   "outputs": [
    {
     "name": "stdout",
     "output_type": "stream",
     "text": [
      "tf.Tensor(\n",
      "[1.00224337e+00 2.97231998e-03 4.56546990e-04 1.29505709e-04\n",
      " 4.44839996e-03 5.94584772e-03 2.37008695e-03 1.87937038e-03\n",
      " 4.85013124e-03 2.86020449e-03], shape=(10,), dtype=float64)\n"
     ]
    }
   ],
   "source": [
    "print(ace.get_coefs()[:10])"
   ]
  },
  {
   "cell_type": "code",
   "execution_count": 109,
   "metadata": {},
   "outputs": [
    {
     "name": "stderr",
     "output_type": "stream",
     "text": [
      "2022-12-13 08:46:45,496 - tensorpotential.fit - INFO - Minimizer options: {'gtol': 1e-08, 'disp': True, 'maxiter': 10}\n",
      "2022-12-13 08:46:46,181 - tensorpotential.fit - INFO - Iteration:  #21   (35 evals):       Loss: 0.646456 | RMSE Energy(low): 23.81 (23.81) meV/at | Forces(low): 11.77 (11.77) meV/A | Time/eval: 587.18 mcs/at\n",
      "2022-12-13 08:46:46,490 - tensorpotential.fit - INFO - Iteration:  #22   (36 evals):       Loss: 0.520623 | RMSE Energy(low): 21.11 (21.11) meV/at | Forces(low): 11.95 (11.95) meV/A | Time/eval: 648.88 mcs/at\n",
      "2022-12-13 08:46:46,782 - tensorpotential.fit - INFO - Iteration:  #23   (37 evals):       Loss: 0.361089 | RMSE Energy(low): 17.26 (17.26) meV/at | Forces(low): 11.46 (11.46) meV/A | Time/eval: 673.56 mcs/at\n",
      "2022-12-13 08:46:47,084 - tensorpotential.fit - INFO - Iteration:  #24   (38 evals):       Loss: 0.299278 | RMSE Energy(low): 15.77 (15.77) meV/at | Forces(low): 10.18 (10.18) meV/A | Time/eval: 703.84 mcs/at\n",
      "2022-12-13 08:46:47,380 - tensorpotential.fit - INFO - Iteration:  #25   (39 evals):       Loss: 0.280269 | RMSE Energy(low): 15.30 (15.30) meV/at | Forces(low): 9.68 (9.68) meV/A | Time/eval: 668.50 mcs/at\n",
      "2022-12-13 08:46:47,694 - tensorpotential.fit - INFO - Iteration:  #26   (40 evals):       Loss: 0.255053 | RMSE Energy(low): 14.34 (14.34) meV/at | Forces(low): 10.33 (10.33) meV/A | Time/eval: 734.40 mcs/at\n",
      "2022-12-13 08:46:47,996 - tensorpotential.fit - INFO - Iteration:  #27   (41 evals):       Loss: 0.218983 | RMSE Energy(low): 13.34 (13.34) meV/at | Forces(low): 9.35 (9.35) meV/A | Time/eval: 677.76 mcs/at\n",
      "2022-12-13 08:46:48,295 - tensorpotential.fit - INFO - Iteration:  #28   (42 evals):       Loss: 0.209030 | RMSE Energy(low): 12.82 (12.82) meV/at | Forces(low): 9.94 (9.94) meV/A | Time/eval: 718.94 mcs/at\n",
      "2022-12-13 08:46:48,587 - tensorpotential.fit - INFO - Iteration:  #29   (43 evals):       Loss: 0.193075 | RMSE Energy(low): 12.19 (12.19) meV/at | Forces(low): 10.04 (10.04) meV/A | Time/eval: 674.12 mcs/at\n",
      "2022-12-13 08:46:48,851 - tensorpotential.fit - INFO - Iteration:  #30   (44 evals):       Loss: 0.166354 | RMSE Energy(low): 11.32 (11.32) meV/at | Forces(low): 9.28 (9.28) meV/A | Time/eval: 630.72 mcs/at\n"
     ]
    },
    {
     "name": "stdout",
     "output_type": "stream",
     "text": [
      "Warning: Maximum number of iterations has been exceeded.\n",
      "         Current function value: 0.166354\n",
      "         Iterations: 10\n",
      "         Function evaluations: 12\n",
      "         Gradient evaluations: 12\n",
      "Fitting took   3.39 seconds\n"
     ]
    }
   ],
   "source": [
    "tpf.fit(df, niter=10, batch_size=105, optimizer='BFGS')"
   ]
  },
  {
   "cell_type": "code",
   "execution_count": 112,
   "metadata": {},
   "outputs": [
    {
     "name": "stdout",
     "output_type": "stream",
     "text": [
      "(998,)\n"
     ]
    }
   ],
   "source": [
    "print(ace.get_coefs().shape)"
   ]
  },
  {
   "cell_type": "code",
   "execution_count": 23,
   "metadata": {},
   "outputs": [],
   "source": [
    "bbasis = ace.get_updated_config()\n",
    "bbasis.save('./my_fitted_potential.yaml')"
   ]
  }
 ],
 "metadata": {
  "kernelspec": {
   "display_name": "Python 3.8.15 ('ace')",
   "language": "python",
   "name": "python3"
  },
  "language_info": {
   "codemirror_mode": {
    "name": "ipython",
    "version": 3
   },
   "file_extension": ".py",
   "mimetype": "text/x-python",
   "name": "python",
   "nbconvert_exporter": "python",
   "pygments_lexer": "ipython3",
   "version": "3.8.15 (default, Nov 24 2022, 15:19:38) \n[GCC 11.2.0]"
  },
  "orig_nbformat": 4,
  "vscode": {
   "interpreter": {
    "hash": "7b56faec3c86897f2ccfdb0639eca073eb874dbe73b6d03c1d3370ad4cbfedd5"
   }
  }
 },
 "nbformat": 4,
 "nbformat_minor": 2
}
