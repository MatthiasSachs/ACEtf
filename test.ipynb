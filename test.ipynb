{
 "cells": [
  {
   "cell_type": "code",
   "execution_count": 1,
   "metadata": {},
   "outputs": [],
   "source": [
    "import os\n",
    "os.environ['TF_CPP_MIN_LOG_LEVEL'] = '2' \n",
    "import pandas as pd \n",
    "from tensorpotential.utils.utilities import generate_tp_atoms\n",
    "from ase.calculators.singlepoint import SinglePointCalculator"
   ]
  },
  {
   "cell_type": "code",
   "execution_count": 5,
   "metadata": {},
   "outputs": [],
   "source": [
    "df = pd.read_pickle('./Cu_df1_A1_A2_A3_EV_elast_phon.pckl.gzip', compression=\"gzip\")\n",
    "\n",
    "cutoff = 3\n",
    "\n",
    "def do_tp_atoms(row):\n",
    "    at = row['ase_atoms']\n",
    "    en = row['energy_corrected']\n",
    "    f = row['forces']\n",
    "    calc = SinglePointCalculator(at, energy=en, forces=f)\n",
    "    at.set_calculator(calc)     # attaches calculator object to atoms \n",
    "    \n",
    "    return generate_tp_atoms(at, cutoff=cutoff)"
   ]
  },
  {
   "cell_type": "code",
   "execution_count": 12,
   "metadata": {},
   "outputs": [
    {
     "data": {
      "text/plain": [
       "array([[4.33680869e-19, 7.07100000e-03, 7.07100000e-03],\n",
       "       [3.33066907e-16, 1.81563000e+00, 1.81563000e+00],\n",
       "       [7.26251800e+00, 1.08937770e+01, 3.63125900e+00],\n",
       "       [7.26251800e+00, 1.27094070e+01, 5.44688900e+00],\n",
       "       [1.81563000e+00, 0.00000000e+00, 1.81563000e+00],\n",
       "       [1.81563000e+00, 1.81563000e+00, 3.63125900e+00],\n",
       "       [9.07814800e+00, 1.08937770e+01, 5.44688900e+00],\n",
       "       [1.81563000e+00, 5.44688900e+00, 7.26251800e+00],\n",
       "       [3.63125900e+00, 0.00000000e+00, 3.63125900e+00],\n",
       "       [1.08937770e+01, 9.07814800e+00, 5.44688900e+00],\n",
       "       [1.08937770e+01, 1.08937770e+01, 7.26251800e+00],\n",
       "       [1.08937770e+01, 1.27094070e+01, 9.07814800e+00],\n",
       "       [5.44688900e+00, 0.00000000e+00, 5.44688900e+00],\n",
       "       [5.44688900e+00, 1.81563000e+00, 7.26251800e+00],\n",
       "       [1.27094070e+01, 1.08937770e+01, 9.07814800e+00],\n",
       "       [5.44688900e+00, 5.44688900e+00, 1.08937770e+01],\n",
       "       [1.81563000e+00, 1.81563000e+00, 0.00000000e+00],\n",
       "       [1.81563000e+00, 3.63125900e+00, 1.81563000e+00],\n",
       "       [1.81563000e+00, 5.44688900e+00, 3.63125900e+00],\n",
       "       [1.81563000e+00, 7.26251800e+00, 5.44688900e+00],\n",
       "       [3.63125900e+00, 1.81563000e+00, 1.81563000e+00],\n",
       "       [3.63125900e+00, 3.63125900e+00, 3.63125900e+00],\n",
       "       [3.63125900e+00, 5.44688900e+00, 5.44688900e+00],\n",
       "       [3.63125900e+00, 7.26251800e+00, 7.26251800e+00],\n",
       "       [5.44688900e+00, 1.81563000e+00, 3.63125900e+00],\n",
       "       [5.44688900e+00, 3.63125900e+00, 5.44688900e+00],\n",
       "       [5.44688900e+00, 5.44688900e+00, 7.26251800e+00],\n",
       "       [5.44688900e+00, 7.26251800e+00, 9.07814800e+00],\n",
       "       [7.26251800e+00, 1.81563000e+00, 5.44688900e+00],\n",
       "       [7.26251800e+00, 3.63125900e+00, 7.26251800e+00],\n",
       "       [7.26251800e+00, 5.44688900e+00, 9.07814800e+00],\n",
       "       [7.26251800e+00, 7.26251800e+00, 1.08937770e+01],\n",
       "       [3.63125900e+00, 3.63125900e+00, 0.00000000e+00],\n",
       "       [3.63125900e+00, 5.44688900e+00, 1.81563000e+00],\n",
       "       [3.63125900e+00, 7.26251800e+00, 3.63125900e+00],\n",
       "       [3.63125900e+00, 9.07814800e+00, 5.44688900e+00],\n",
       "       [5.44688900e+00, 3.63125900e+00, 1.81563000e+00],\n",
       "       [5.44688900e+00, 5.44688900e+00, 3.63125900e+00],\n",
       "       [5.44688900e+00, 7.26251800e+00, 5.44688900e+00],\n",
       "       [5.44688900e+00, 9.07814800e+00, 7.26251800e+00],\n",
       "       [7.26251800e+00, 3.63125900e+00, 3.63125900e+00],\n",
       "       [7.26251800e+00, 5.44688900e+00, 5.44688900e+00],\n",
       "       [7.26251800e+00, 7.26251800e+00, 7.26251800e+00],\n",
       "       [7.26251800e+00, 9.07814800e+00, 9.07814800e+00],\n",
       "       [9.07814800e+00, 3.63125900e+00, 5.44688900e+00],\n",
       "       [9.07814800e+00, 5.44688900e+00, 7.26251800e+00],\n",
       "       [9.07814800e+00, 7.26251800e+00, 9.07814800e+00],\n",
       "       [9.07814800e+00, 9.07814800e+00, 1.08937770e+01],\n",
       "       [5.44688900e+00, 5.44688900e+00, 1.77635684e-15],\n",
       "       [5.44688900e+00, 7.26251800e+00, 1.81563000e+00],\n",
       "       [5.44688900e+00, 9.07814800e+00, 3.63125900e+00],\n",
       "       [5.44688900e+00, 1.08937770e+01, 5.44688900e+00],\n",
       "       [7.26251800e+00, 5.44688900e+00, 1.81563000e+00],\n",
       "       [7.26251800e+00, 7.26251800e+00, 3.63125900e+00],\n",
       "       [7.26251800e+00, 9.07814800e+00, 5.44688900e+00],\n",
       "       [7.26251800e+00, 1.08937770e+01, 7.26251800e+00],\n",
       "       [9.07814800e+00, 5.44688900e+00, 3.63125900e+00],\n",
       "       [9.07814800e+00, 7.26251800e+00, 5.44688900e+00],\n",
       "       [9.07814800e+00, 9.07814800e+00, 7.26251800e+00],\n",
       "       [9.07814800e+00, 1.08937770e+01, 9.07814800e+00],\n",
       "       [1.08937770e+01, 5.44688900e+00, 5.44688900e+00],\n",
       "       [1.08937770e+01, 7.26251800e+00, 7.26251800e+00],\n",
       "       [1.08937770e+01, 9.07814800e+00, 9.07814800e+00],\n",
       "       [1.08937770e+01, 1.08937770e+01, 1.08937770e+01]])"
      ]
     },
     "execution_count": 12,
     "metadata": {},
     "output_type": "execute_result"
    }
   ],
   "source": [
    "row = df.iloc[2]\n",
    "at = row['ase_atoms']\n",
    "at.get_positions()"
   ]
  },
  {
   "cell_type": "code",
   "execution_count": 10,
   "metadata": {},
   "outputs": [
    {
     "name": "stdout",
     "output_type": "stream",
     "text": [
      "<ase.neighborlist.NewPrimitiveNeighborList object at 0x7fe0b43eb280>\n"
     ]
    }
   ],
   "source": [
    "from ase.neighborlist import NewPrimitiveNeighborList\n",
    "\n",
    "nghbrs_lst = NewPrimitiveNeighborList(cutoffs=[cutoff * 0.5] * len(atoms), skin=0,\n",
    "                                          self_interaction=False, bothways=True, use_scaled_positions=True)\n",
    "\n",
    "print(nghbrs_lst)"
   ]
  },
  {
   "cell_type": "code",
   "execution_count": 10,
   "metadata": {},
   "outputs": [
    {
     "name": "stdout",
     "output_type": "stream",
     "text": [
      "tf.Tensor(\n",
      "[[-0.05648739  0.78385696  0.58151072]\n",
      " [ 1.10322333 -0.5805956  -0.2407384 ]], shape=(2, 3), dtype=float64)\n",
      "tf.Tensor(\n",
      "[[0.97763863]\n",
      " [1.26970388]], shape=(2, 1), dtype=float64)\n",
      "tf.Tensor(\n",
      "[[-0.05777941  0.801786    0.59481153]\n",
      " [ 0.86888238 -0.45726851 -0.189602  ]], shape=(2, 3), dtype=float64)\n"
     ]
    }
   ],
   "source": [
    "import tensorflow as tf \n",
    "import numpy as np\n",
    "\n",
    "r_ij = tf.constant(np.random.randn(6).reshape(2, 3))\n",
    "\n",
    "d_ij = tf.reshape(tf.linalg.norm(r_ij, axis=1), [-1, 1])\n",
    "rhat = r_ij / d_ij  # [None, 3]/[None, 1] -> [None, 3]\n",
    "\n",
    "print(r_ij)\n",
    "print(d_ij)\n",
    "print(rhat) "
   ]
  }
 ],
 "metadata": {
  "kernelspec": {
   "display_name": "ace",
   "language": "python",
   "name": "python3"
  },
  "language_info": {
   "codemirror_mode": {
    "name": "ipython",
    "version": 3
   },
   "file_extension": ".py",
   "mimetype": "text/x-python",
   "name": "python",
   "nbconvert_exporter": "python",
   "pygments_lexer": "ipython3",
   "version": "3.8.15"
  },
  "orig_nbformat": 4,
  "vscode": {
   "interpreter": {
    "hash": "7b56faec3c86897f2ccfdb0639eca073eb874dbe73b6d03c1d3370ad4cbfedd5"
   }
  }
 },
 "nbformat": 4,
 "nbformat_minor": 2
}
