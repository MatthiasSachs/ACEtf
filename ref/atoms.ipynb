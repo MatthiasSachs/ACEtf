{
 "cells": [
  {
   "attachments": {},
   "cell_type": "markdown",
   "metadata": {},
   "source": [
    "The ASE `Atoms` class is the main form of storing structural information. It contains information on \n",
    "- the atomic positions: `at.get_positions()` \n",
    "- the atomic momenta: `at.get_momenta()` \n",
    "- the atomic masses: `at.get_masses()` \n",
    "- the atomic numbers: `at.get_atomic_numbers()` \n",
    "- the atomic symbols, with how many there are: `at.symbols`\n",
    "- the cell: `at.get_cell()` \n",
    "- whether the periodic boundary conditions (pbc) is True or not: `at.get_pbc()`\n",
    "\n",
    "Other attributes and methods are available in the `atoms.py` module of the ASE package. You can also find how many atoms are in the object by calling `len(at)`"
   ]
  },
  {
   "cell_type": "code",
   "execution_count": 16,
   "metadata": {},
   "outputs": [
    {
     "name": "stdout",
     "output_type": "stream",
     "text": [
      "SinglePointCalculator(energy=..., forces=...)\n"
     ]
    }
   ],
   "source": [
    "import pandas as pd \n",
    "\n",
    "df = pd.read_pickle('../Cu_df1_A1_A2_A3_EV_elast_phon.pckl.gzip', compression=\"gzip\")\n",
    "at = df['ase_atoms'][2] "
   ]
  },
  {
   "attachments": {},
   "cell_type": "markdown",
   "metadata": {},
   "source": [
    "The `Atoms` object also has a calculator object that is used for calculating energies and atomic forces. With this, we can compute the potential and kinetic energies. "
   ]
  },
  {
   "cell_type": "code",
   "execution_count": 28,
   "metadata": {},
   "outputs": [
    {
     "name": "stdout",
     "output_type": "stream",
     "text": [
      "SinglePointCalculator(energy=..., forces=...)\n",
      "[-236.78960259]\n",
      "0.0\n",
      "[[-1.13852958e-06 -4.64638907e-02 -4.64636808e-02]\n",
      " [-3.86335457e-06  1.24851330e-02  1.24792943e-02]\n",
      " [-1.94300535e-06  6.63943442e-05  6.92790474e-05]\n",
      " [ 1.08215612e-06  1.18330077e-02  1.18269405e-02]\n",
      " [ 6.51628259e-03 -6.18275814e-04  5.75702244e-03]\n",
      " [ 2.40238720e-04  2.70481364e-04  4.42130346e-04]\n",
      " [-2.51624836e-04  4.35813621e-04  2.64851360e-04]\n",
      " [-6.35935175e-03  5.63986500e-03 -5.87454043e-04]\n",
      " [ 6.42477472e-05  3.74905217e-05  8.44023922e-06]\n",
      " [-7.71013056e-06  2.54765113e-05  2.48597709e-05]\n",
      " [-6.03710249e-05  1.23614283e-05  3.83824000e-05]\n",
      " [ 2.84977815e-06  2.29767534e-05  2.60821772e-05]\n",
      " [ 6.36069841e-03 -5.87129772e-04  5.64277343e-03]\n",
      " [-6.51458114e-03  5.75480659e-03 -6.17254351e-04]\n",
      " [-2.40562571e-04  4.37060542e-04  2.69229510e-04]\n",
      " [ 2.50386649e-04  2.64348048e-04  4.38629256e-04]\n",
      " [ 6.51503614e-03  5.75480063e-03 -6.17806538e-04]\n",
      " [ 2.41001204e-04  4.38085915e-04  2.69223750e-04]\n",
      " [-2.50828296e-04  2.65406184e-04  4.39887144e-04]\n",
      " [-6.36062478e-03 -5.88007131e-04  5.64179866e-03]\n",
      " [ 3.29448410e-04  1.86921307e-04  1.85996955e-04]\n",
      " [-3.87981530e-06 -8.80438924e-05 -8.71994428e-05]\n",
      " [-3.27111697e-04  1.86481398e-04  1.85220112e-04]\n",
      " [-5.68669995e-06 -2.18760041e-04 -2.21694662e-04]\n",
      " [ 8.02707912e-05 -6.45609877e-05  1.15176141e-04]\n",
      " [-8.89826578e-05  1.17540844e-04 -5.66258850e-05]\n",
      " [ 7.24924464e-05 -1.29576604e-04  7.94621797e-05]\n",
      " [-6.27454494e-05  8.12088920e-05 -8.78259256e-05]\n",
      " [-1.43548147e-06 -7.54089263e-04 -7.16422036e-04]\n",
      " [-3.91968609e-06  4.21790668e-04 -2.11288675e-04]\n",
      " [-1.14335790e-06 -1.75878979e-04 -1.60529208e-04]\n",
      " [ 1.76143198e-06 -2.31403247e-04  4.40990459e-04]\n",
      " [ 5.96981032e-05  1.24292510e-05  3.82711803e-05]\n",
      " [-3.20268576e-06  2.41252895e-05  2.66710428e-05]\n",
      " [-6.48087930e-05  3.78214431e-05  7.28194829e-06]\n",
      " [ 7.64134027e-06  2.47835400e-05  2.36273645e-05]\n",
      " [ 7.95548412e-05  1.16194567e-04 -6.37774738e-05]\n",
      " [-8.97798666e-05 -5.72319335e-05  1.16317429e-04]\n",
      " [ 7.17788855e-05  7.83067101e-05 -1.30258594e-04]\n",
      " [-6.38002362e-05 -8.73613147e-05  8.14864170e-05]\n",
      " [ 1.23037217e-06 -2.04933627e-05 -2.11641495e-05]\n",
      " [-1.57721059e-06 -4.34178645e-05 -4.40855187e-05]\n",
      " [ 1.33549473e-06 -2.70538153e-04 -2.70937101e-04]\n",
      " [ 4.14221442e-06 -4.55305904e-05 -4.63468370e-05]\n",
      " [ 8.82332834e-05  1.17070248e-04 -5.78509739e-05]\n",
      " [-7.31301586e-05 -1.29321269e-04  7.96617368e-05]\n",
      " [ 6.16247597e-05  8.10556382e-05 -8.77820880e-05]\n",
      " [-8.07145624e-05 -6.40919116e-05  1.13765451e-04]\n",
      " [ 6.35907840e-03  5.64037659e-03 -5.87531915e-04]\n",
      " [-6.51573118e-03 -6.17614155e-04  5.75746074e-03]\n",
      " [-2.39948939e-04  2.70010754e-04  4.41037189e-04]\n",
      " [ 2.51112417e-04  4.35313281e-04  2.63531556e-04]\n",
      " [ 5.81772236e-07 -7.17685947e-04 -7.52631300e-04]\n",
      " [-1.57521280e-06 -2.11488679e-04  4.25941601e-04]\n",
      " [ 3.56152842e-07 -1.57882732e-04 -1.78440180e-04]\n",
      " [ 3.15276579e-06  4.36376986e-04 -2.31109911e-04]\n",
      " [ 8.94443088e-05 -5.80040172e-05  1.15742404e-04]\n",
      " [-7.19704058e-05  7.83540841e-05 -1.30093318e-04]\n",
      " [ 6.32929470e-05 -8.65933332e-05  8.23418509e-05]\n",
      " [-7.98397882e-05  1.15004294e-04 -6.46461659e-05]\n",
      " [ 3.27538741e-04  1.86767415e-04  1.85228401e-04]\n",
      " [ 5.07534983e-06 -2.17300348e-04 -2.21048334e-04]\n",
      " [-3.30013756e-04  1.87465742e-04  1.85418955e-04]\n",
      " [ 2.95276511e-06 -8.86464724e-05 -8.91238647e-05]]\n"
     ]
    }
   ],
   "source": [
    "print(at.calc)\n",
    "\n",
    "print(at.get_potential_energy())\n",
    "print(at.get_kinetic_energy())\n",
    "print(at.get_forces())"
   ]
  },
  {
   "attachments": {},
   "cell_type": "markdown",
   "metadata": {},
   "source": [
    "If we initialized an `Atoms` object with no calculator on it, then we would not be able to compute the potential and kinetic energy. "
   ]
  },
  {
   "cell_type": "code",
   "execution_count": 26,
   "metadata": {},
   "outputs": [
    {
     "name": "stdout",
     "output_type": "stream",
     "text": [
      "None\n"
     ]
    },
    {
     "ename": "RuntimeError",
     "evalue": "Atoms object has no calculator.",
     "output_type": "error",
     "traceback": [
      "\u001b[0;31m---------------------------------------------------------------------------\u001b[0m",
      "\u001b[0;31mRuntimeError\u001b[0m                              Traceback (most recent call last)",
      "Cell \u001b[0;32mIn [26], line 5\u001b[0m\n\u001b[1;32m      2\u001b[0m atoms \u001b[39m=\u001b[39m Atoms(\u001b[39m'\u001b[39m\u001b[39mN2\u001b[39m\u001b[39m'\u001b[39m, positions\u001b[39m=\u001b[39m[[\u001b[39m0\u001b[39m, \u001b[39m0\u001b[39m, \u001b[39m-\u001b[39m\u001b[39m1\u001b[39m], [\u001b[39m0\u001b[39m, \u001b[39m0\u001b[39m, \u001b[39m1\u001b[39m]])\n\u001b[1;32m      3\u001b[0m \u001b[39mprint\u001b[39m(atoms\u001b[39m.\u001b[39mcalc)       \u001b[39m# None \u001b[39;00m\n\u001b[0;32m----> 5\u001b[0m \u001b[39mprint\u001b[39m(atoms\u001b[39m.\u001b[39;49mget_potential_energy())\n",
      "File \u001b[0;32m~/miniconda/envs/ace/lib/python3.8/site-packages/ase/atoms.py:726\u001b[0m, in \u001b[0;36mAtoms.get_potential_energy\u001b[0;34m(self, force_consistent, apply_constraint)\u001b[0m\n\u001b[1;32m    715\u001b[0m \u001b[39m\"\"\"Calculate potential energy.\u001b[39;00m\n\u001b[1;32m    716\u001b[0m \n\u001b[1;32m    717\u001b[0m \u001b[39mAsk the attached calculator to calculate the potential energy and\u001b[39;00m\n\u001b[0;32m   (...)\u001b[0m\n\u001b[1;32m    723\u001b[0m \u001b[39menergy) can be returned.\u001b[39;00m\n\u001b[1;32m    724\u001b[0m \u001b[39m\"\"\"\u001b[39;00m\n\u001b[1;32m    725\u001b[0m \u001b[39mif\u001b[39;00m \u001b[39mself\u001b[39m\u001b[39m.\u001b[39m_calc \u001b[39mis\u001b[39;00m \u001b[39mNone\u001b[39;00m:\n\u001b[0;32m--> 726\u001b[0m     \u001b[39mraise\u001b[39;00m \u001b[39mRuntimeError\u001b[39;00m(\u001b[39m'\u001b[39m\u001b[39mAtoms object has no calculator.\u001b[39m\u001b[39m'\u001b[39m)\n\u001b[1;32m    727\u001b[0m \u001b[39mif\u001b[39;00m force_consistent:\n\u001b[1;32m    728\u001b[0m     energy \u001b[39m=\u001b[39m \u001b[39mself\u001b[39m\u001b[39m.\u001b[39m_calc\u001b[39m.\u001b[39mget_potential_energy(\n\u001b[1;32m    729\u001b[0m         \u001b[39mself\u001b[39m, force_consistent\u001b[39m=\u001b[39mforce_consistent)\n",
      "\u001b[0;31mRuntimeError\u001b[0m: Atoms object has no calculator."
     ]
    }
   ],
   "source": [
    "from ase import Atoms \n",
    "atoms = Atoms('N2', positions=[[0, 0, -1], [0, 0, 1]])\n",
    "print(atoms.calc)       # None \n",
    "\n",
    "print(atoms.get_potential_energy())\n"
   ]
  },
  {
   "cell_type": "code",
   "execution_count": null,
   "metadata": {},
   "outputs": [],
   "source": []
  }
 ],
 "metadata": {
  "kernelspec": {
   "display_name": "ace",
   "language": "python",
   "name": "python3"
  },
  "language_info": {
   "codemirror_mode": {
    "name": "ipython",
    "version": 3
   },
   "file_extension": ".py",
   "mimetype": "text/x-python",
   "name": "python",
   "nbconvert_exporter": "python",
   "pygments_lexer": "ipython3",
   "version": "3.8.15 (default, Nov 24 2022, 15:19:38) \n[GCC 11.2.0]"
  },
  "orig_nbformat": 4,
  "vscode": {
   "interpreter": {
    "hash": "7b56faec3c86897f2ccfdb0639eca073eb874dbe73b6d03c1d3370ad4cbfedd5"
   }
  }
 },
 "nbformat": 4,
 "nbformat_minor": 2
}
